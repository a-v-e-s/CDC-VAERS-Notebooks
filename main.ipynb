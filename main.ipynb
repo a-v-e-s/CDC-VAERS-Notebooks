{
 "cells": [
  {
   "cell_type": "code",
   "execution_count": null,
   "id": "efe581ba",
   "metadata": {},
   "outputs": [],
   "source": [
    "# imports\n",
    "import numpy as np\n",
    "import pandas as pd\n",
    "import seaborn as sns\n",
    "import matplotlib.pyplot as plt\n",
    "\n",
    "import os"
   ]
  },
  {
   "cell_type": "code",
   "execution_count": null,
   "id": "429343e6",
   "metadata": {},
   "outputs": [],
   "source": [
    "# settings\n",
    "sns.set()\n",
    "%matplotlib inline"
   ]
  },
  {
   "cell_type": "code",
   "execution_count": null,
   "id": "79a9b72d",
   "metadata": {},
   "outputs": [],
   "source": [
    "# extract the archive; change directory; show csv files\n",
    "![[ ! -d CSVs ]] && tar -xvf csvs.tar.xz || echo \"Archive already extracted!\"\n",
    "\n",
    "%cd CSVs/\n",
    "!ls *.csv\n"
   ]
  },
  {
   "cell_type": "code",
   "execution_count": null,
   "id": "cfdd07a1",
   "metadata": {},
   "outputs": [],
   "source": [
    "# load VAERSDATA CSV\n",
    "VAERS_DATA = pd.read_csv('2021VAERSDATA.csv', encoding='cp1252')\n",
    "VAERS_DATA.head(5)"
   ]
  },
  {
   "cell_type": "code",
   "execution_count": null,
   "id": "d13091c2",
   "metadata": {},
   "outputs": [],
   "source": [
    "# VAERS_DATA CSV Basic Information\n",
    "print('VAERS_DATA:'); print()\n",
    "print('Column Headers:\\t', VAERS_DATA.columns); print()\n",
    "print('Rows, Columns:\\t', VAERS_DATA.shape); print()\n",
    "print('Women reporting adverse reactions:\\t', len([x for x in VAERS_DATA['SEX'] if x == 'F']))\n",
    "print('Men reporting adverse reactions:\\t', len([x for x in VAERS_DATA['SEX'] if x == 'M']))\n",
    "print()\n",
    "\n",
    "DIED_DF = VAERS_DATA[VAERS_DATA['DIED']=='Y']\n",
    "DEATH_IDS = DIED_DF['VAERS_ID']\n",
    "print('number of deaths:\\t', len(DEATH_IDS))\n",
    "\n",
    "ER_VISIT_DF = VAERS_DATA[VAERS_DATA['ER_VISIT']=='Y']\n",
    "ER_VISIT_IDS = ER_VISIT_DF['VAERS_ID']\n",
    "print('number of er visits:\\t', len(ER_VISIT_IDS))\n",
    "\n",
    "DISABLE_DF = VAERS_DATA[VAERS_DATA['DISABLE']=='Y']\n",
    "DISABLE_IDS = DISABLE_DF['VAERS_ID']\n",
    "print('number of disabilities:\\t', len(DISABLE_IDS))"
   ]
  },
  {
   "cell_type": "code",
   "execution_count": null,
   "id": "1f89a61e",
   "metadata": {},
   "outputs": [],
   "source": [
    "DEATHS = []\n",
    "for key in DEATH_IDS.keys():\n",
    "    DEATHS.append(VAERS_DATA.loc[VAERS_DATA['VAERS_ID']==DEATH_IDS[key]])\n",
    "\n",
    "ages, male_fatalities, female_fatalities = [], [], []\n",
    "for DEATH in DEATHS:\n",
    "    if (DEATH['SEX'] == 'M').bool():\n",
    "        male_fatalities.append(DEATH)\n",
    "    elif (DEATH['SEX'] == 'F').bool:\n",
    "        female_fatalities.append(DEATH)\n",
    "    try:\n",
    "        ages.append(int(DEATH['AGE_YRS']))\n",
    "    except ValueError:\n",
    "        pass\n",
    "\n",
    "print('Male fatalities:\\t', len(male_fatalities))\n",
    "print('Female fatalities:\\t', len(female_fatalities))\n",
    "print('Average age:\\t', np.mean(ages))\n",
    "print('Standard deviation of age:\\t', np.std(ages))\n"
   ]
  },
  {
   "cell_type": "code",
   "execution_count": null,
   "id": "461a279c",
   "metadata": {},
   "outputs": [],
   "source": [
    "plt.title('Age of Vaccine Deaths:')\n",
    "plt.hist(ages)"
   ]
  },
  {
   "cell_type": "code",
   "execution_count": null,
   "id": "4354725b",
   "metadata": {},
   "outputs": [],
   "source": [
    "er_visits = []\n",
    "for key in ER_VISIT_IDS.keys():\n",
    "    er_visits.append(VAERS_DATA.loc[VAERS_DATA['VAERS_ID']==ER_VISIT_IDS[key]])\n",
    "\n",
    "age_hospitalized, men_hospitalized, women_hospitalized = [], [], []\n",
    "for visit in er_visits:\n",
    "    if (visit['SEX'] == 'M').bool():\n",
    "        men_hospitalized.append(visit)\n",
    "    elif (visit['SEX'] == 'F').bool():\n",
    "        women_hospitalized.append(visit)\n",
    "    try:\n",
    "        age_hospitalized.append(int(visit['AGE_YRS']))\n",
    "    except ValueError:\n",
    "        pass\n",
    "\n",
    "print('Men hospitalized:\\t', len(men_hospitalized))\n",
    "print('Women hospitalized:\\t', len(women_hospitalized))\n",
    "print('Average age:\\t', np.mean(age_hospitalized))\n",
    "print('Standard deviation of age:\\t', np.std(age_hospitalized))"
   ]
  },
  {
   "cell_type": "code",
   "execution_count": null,
   "id": "aee46dcb",
   "metadata": {},
   "outputs": [],
   "source": [
    "plt.title('Age of vaccine hospitalizations:')\n",
    "plt.hist(age_hospitalized)"
   ]
  },
  {
   "cell_type": "code",
   "execution_count": null,
   "id": "6553fb1e",
   "metadata": {},
   "outputs": [],
   "source": [
    "disabilities = []\n",
    "for key in DISABLE_IDS.keys():\n",
    "    disabilities.append(VAERS_DATA.loc[VAERS_DATA['VAERS_ID']==DISABLE_IDS[key]])\n",
    "\n",
    "age_disabled, men_disabled, women_disabled = [], [], []\n",
    "for disability in disabilities:\n",
    "    if (disability['SEX'] == 'M').bool():\n",
    "        men_disabled.append(disability)\n",
    "    elif (disability['SEX'] == 'F').bool():\n",
    "        women_disabled.append(disability)\n",
    "    try:\n",
    "        age_disabled.append(int(disability['AGE_YRS']))\n",
    "    except ValueError:\n",
    "        pass\n",
    "\n",
    "print('Men disabled:\\t', len(men_disabled))\n",
    "print('Women disabled:\\t', len(women_disabled))\n",
    "print('Average age:\\t', np.mean(age_disabled))\n",
    "print('Standard deviation of age:\\t', np.std(age_disabled))"
   ]
  },
  {
   "cell_type": "code",
   "execution_count": null,
   "id": "dfaf308e",
   "metadata": {},
   "outputs": [],
   "source": [
    "plt.title('Age of vaccine disability:')\n",
    "plt.hist(age_disabled)"
   ]
  },
  {
   "cell_type": "code",
   "execution_count": null,
   "id": "4347bea1",
   "metadata": {},
   "outputs": [],
   "source": [
    "# load VAERS SYMPTOMS CSV\n",
    "VAERS_SYMPTOMS = pd.read_csv('2021VAERSSYMPTOMS.csv', encoding='cp1252')\n",
    "VAERS_SYMPTOMS.head(5)"
   ]
  },
  {
   "cell_type": "code",
   "execution_count": null,
   "id": "17f13472",
   "metadata": {},
   "outputs": [],
   "source": [
    "#print basic information on VAERS SYMPTOMS CSV\n",
    "print('VAERS_SYMPTOMS:'); print()\n",
    "print('Columns:', VAERS_SYMPTOMS.columns); print()\n",
    "print('Shape:', VAERS_SYMPTOMS.shape); print()\n",
    "print(len(VAERS_SYMPTOMS['SYMPTOM1'].unique()))\n",
    "print(len(VAERS_SYMPTOMS['SYMPTOM2'].unique()))\n",
    "print(len(VAERS_SYMPTOMS['SYMPTOM3'].unique()))\n",
    "print(len(VAERS_SYMPTOMS['SYMPTOM4'].unique()))\n",
    "print(len(VAERS_SYMPTOMS['SYMPTOM5'].unique()))"
   ]
  },
  {
   "cell_type": "code",
   "execution_count": null,
   "id": "389bea0c",
   "metadata": {},
   "outputs": [],
   "source": [
    "# load VAERS VAX CSV\n",
    "VAERS_VAX = pd.read_csv('2021VAERSVAX.csv', encoding='cp1252')\n",
    "VAERS_VAX.head(5)"
   ]
  },
  {
   "cell_type": "code",
   "execution_count": null,
   "id": "0a459b04",
   "metadata": {},
   "outputs": [],
   "source": [
    "# print basic information on VAERS VAX CSV\n",
    "print('VAERS_VAX:'); print()\n",
    "print('Columns:', VAERS_VAX.columns); print()\n",
    "print('Shape:', VAERS_VAX.shape); print()"
   ]
  },
  {
   "cell_type": "code",
   "execution_count": null,
   "id": "e2b3c083",
   "metadata": {},
   "outputs": [],
   "source": [
    "# load COVID DEATHS CSV\n",
    "COVID_DEATHS = pd.read_csv('Conditions_Contributing_to_COVID-19_Deaths__by_State_and_Age.csv')\n",
    "COVID_DEATHS.head(5)"
   ]
  },
  {
   "cell_type": "code",
   "execution_count": null,
   "id": "3df8a27a",
   "metadata": {},
   "outputs": [],
   "source": [
    "# print basic information on COVID DEATHS CSV\n",
    "print('Column headers:\\t', COVID_DEATHS.columns); print()\n",
    "print('Rows, Columns:\\t', COVID_DEATHS.shape); print()\n",
    "print('Condition Groups:\\t', COVID_DEATHS['Condition Group'].unique()); print()\n",
    "print('Conditions:\\t', COVID_DEATHS['Condition'].unique()); print()\n",
    "print('Age Groups:\\t', COVID_DEATHS['Age Group'].unique()); print()"
   ]
  }
 ],
 "metadata": {
  "kernelspec": {
   "display_name": "Python 3.8.5 64-bit",
   "language": "python",
   "name": "python38564bitf30ad90ec80f465897333a99618a45de"
  },
  "language_info": {
   "codemirror_mode": {
    "name": "ipython",
    "version": 3
   },
   "file_extension": ".py",
   "mimetype": "text/x-python",
   "name": "python",
   "nbconvert_exporter": "python",
   "pygments_lexer": "ipython3",
   "version": "3.8.10"
  }
 },
 "nbformat": 4,
 "nbformat_minor": 5
}
